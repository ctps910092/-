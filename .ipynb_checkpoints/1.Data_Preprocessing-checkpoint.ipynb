{
 "cells": [
  {
   "cell_type": "code",
   "execution_count": 1,
   "id": "missing-paint",
   "metadata": {},
   "outputs": [],
   "source": [
    "#Import libraries\n",
    "import numpy as np\n",
    "import pandas as pd\n",
    "\n",
    "import matplotlib.pyplot as plt\n",
    "import seaborn as sns\n",
    "\n",
    "from sklearn.model_selection import train_test_split, GridSearchCV\n",
    "from sklearn.preprocessing import MinMaxScaler\n",
    "from sklearn.linear_model import LogisticRegression\n",
    "from sklearn.ensemble import RandomForestClassifier\n",
    "from sklearn.metrics import plot_roc_curve, confusion_matrix, roc_auc_score\n",
    "from scikitplot.metrics import plot_lift_curve\n",
    "from IPython.core.interactiveshell import InteractiveShell\n",
    "InteractiveShell.ast_node_interactivity = \"all\""
   ]
  },
  {
   "cell_type": "code",
   "execution_count": 4,
   "id": "owned-warning",
   "metadata": {},
   "outputs": [
    {
     "data": {
      "text/html": [
       "<div>\n",
       "<style scoped>\n",
       "    .dataframe tbody tr th:only-of-type {\n",
       "        vertical-align: middle;\n",
       "    }\n",
       "\n",
       "    .dataframe tbody tr th {\n",
       "        vertical-align: top;\n",
       "    }\n",
       "\n",
       "    .dataframe thead th {\n",
       "        text-align: right;\n",
       "    }\n",
       "</style>\n",
       "<table border=\"1\" class=\"dataframe\">\n",
       "  <thead>\n",
       "    <tr style=\"text-align: right;\">\n",
       "      <th></th>\n",
       "      <th>Administrative</th>\n",
       "      <th>Administrative_Duration</th>\n",
       "      <th>Informational</th>\n",
       "      <th>Informational_Duration</th>\n",
       "      <th>ProductRelated</th>\n",
       "      <th>ProductRelated_Duration</th>\n",
       "      <th>BounceRates</th>\n",
       "      <th>ExitRates</th>\n",
       "      <th>PageValues</th>\n",
       "      <th>SpecialDay</th>\n",
       "      <th>Month</th>\n",
       "      <th>OperatingSystems</th>\n",
       "      <th>Browser</th>\n",
       "      <th>Region</th>\n",
       "      <th>TrafficType</th>\n",
       "      <th>VisitorType</th>\n",
       "      <th>Weekend</th>\n",
       "      <th>Revenue</th>\n",
       "    </tr>\n",
       "  </thead>\n",
       "  <tbody>\n",
       "    <tr>\n",
       "      <th>0</th>\n",
       "      <td>0</td>\n",
       "      <td>0.000000</td>\n",
       "      <td>0</td>\n",
       "      <td>0.0</td>\n",
       "      <td>1</td>\n",
       "      <td>0.000000</td>\n",
       "      <td>0.200000</td>\n",
       "      <td>0.200000</td>\n",
       "      <td>0.000000</td>\n",
       "      <td>0.4</td>\n",
       "      <td>2</td>\n",
       "      <td>3.0</td>\n",
       "      <td>11.0</td>\n",
       "      <td>3.0</td>\n",
       "      <td>7.0</td>\n",
       "      <td>2.0</td>\n",
       "      <td>0</td>\n",
       "      <td>0</td>\n",
       "    </tr>\n",
       "    <tr>\n",
       "      <th>1</th>\n",
       "      <td>0</td>\n",
       "      <td>0.000000</td>\n",
       "      <td>0</td>\n",
       "      <td>0.0</td>\n",
       "      <td>1</td>\n",
       "      <td>0.000000</td>\n",
       "      <td>0.200000</td>\n",
       "      <td>0.200000</td>\n",
       "      <td>0.000000</td>\n",
       "      <td>0.0</td>\n",
       "      <td>9</td>\n",
       "      <td>1.0</td>\n",
       "      <td>10.0</td>\n",
       "      <td>0.0</td>\n",
       "      <td>8.0</td>\n",
       "      <td>2.0</td>\n",
       "      <td>0</td>\n",
       "      <td>0</td>\n",
       "    </tr>\n",
       "    <tr>\n",
       "      <th>2</th>\n",
       "      <td>9</td>\n",
       "      <td>301.000000</td>\n",
       "      <td>0</td>\n",
       "      <td>0.0</td>\n",
       "      <td>38</td>\n",
       "      <td>2621.621429</td>\n",
       "      <td>0.021212</td>\n",
       "      <td>0.044508</td>\n",
       "      <td>10.721172</td>\n",
       "      <td>0.0</td>\n",
       "      <td>8</td>\n",
       "      <td>1.0</td>\n",
       "      <td>10.0</td>\n",
       "      <td>0.0</td>\n",
       "      <td>14.0</td>\n",
       "      <td>2.0</td>\n",
       "      <td>0</td>\n",
       "      <td>0</td>\n",
       "    </tr>\n",
       "    <tr>\n",
       "      <th>3</th>\n",
       "      <td>2</td>\n",
       "      <td>13.333333</td>\n",
       "      <td>0</td>\n",
       "      <td>0.0</td>\n",
       "      <td>105</td>\n",
       "      <td>2062.443592</td>\n",
       "      <td>0.012205</td>\n",
       "      <td>0.020276</td>\n",
       "      <td>0.000000</td>\n",
       "      <td>0.6</td>\n",
       "      <td>2</td>\n",
       "      <td>5.0</td>\n",
       "      <td>10.0</td>\n",
       "      <td>0.0</td>\n",
       "      <td>7.0</td>\n",
       "      <td>2.0</td>\n",
       "      <td>0</td>\n",
       "      <td>0</td>\n",
       "    </tr>\n",
       "    <tr>\n",
       "      <th>4</th>\n",
       "      <td>0</td>\n",
       "      <td>0.000000</td>\n",
       "      <td>0</td>\n",
       "      <td>0.0</td>\n",
       "      <td>19</td>\n",
       "      <td>220.384849</td>\n",
       "      <td>0.010526</td>\n",
       "      <td>0.024642</td>\n",
       "      <td>0.000000</td>\n",
       "      <td>0.0</td>\n",
       "      <td>2</td>\n",
       "      <td>1.0</td>\n",
       "      <td>1.0</td>\n",
       "      <td>0.0</td>\n",
       "      <td>7.0</td>\n",
       "      <td>2.0</td>\n",
       "      <td>0</td>\n",
       "      <td>0</td>\n",
       "    </tr>\n",
       "    <tr>\n",
       "      <th>...</th>\n",
       "      <td>...</td>\n",
       "      <td>...</td>\n",
       "      <td>...</td>\n",
       "      <td>...</td>\n",
       "      <td>...</td>\n",
       "      <td>...</td>\n",
       "      <td>...</td>\n",
       "      <td>...</td>\n",
       "      <td>...</td>\n",
       "      <td>...</td>\n",
       "      <td>...</td>\n",
       "      <td>...</td>\n",
       "      <td>...</td>\n",
       "      <td>...</td>\n",
       "      <td>...</td>\n",
       "      <td>...</td>\n",
       "      <td>...</td>\n",
       "      <td>...</td>\n",
       "    </tr>\n",
       "    <tr>\n",
       "      <th>8093</th>\n",
       "      <td>0</td>\n",
       "      <td>0.000000</td>\n",
       "      <td>0</td>\n",
       "      <td>0.0</td>\n",
       "      <td>4</td>\n",
       "      <td>81.000000</td>\n",
       "      <td>0.000000</td>\n",
       "      <td>0.050000</td>\n",
       "      <td>0.000000</td>\n",
       "      <td>0.4</td>\n",
       "      <td>2</td>\n",
       "      <td>1.0</td>\n",
       "      <td>1.0</td>\n",
       "      <td>5.0</td>\n",
       "      <td>7.0</td>\n",
       "      <td>2.0</td>\n",
       "      <td>0</td>\n",
       "      <td>0</td>\n",
       "    </tr>\n",
       "    <tr>\n",
       "      <th>8094</th>\n",
       "      <td>1</td>\n",
       "      <td>15.200000</td>\n",
       "      <td>2</td>\n",
       "      <td>62.6</td>\n",
       "      <td>84</td>\n",
       "      <td>4941.698611</td>\n",
       "      <td>0.017647</td>\n",
       "      <td>0.038706</td>\n",
       "      <td>0.000000</td>\n",
       "      <td>0.0</td>\n",
       "      <td>6</td>\n",
       "      <td>3.0</td>\n",
       "      <td>11.0</td>\n",
       "      <td>1.0</td>\n",
       "      <td>8.0</td>\n",
       "      <td>2.0</td>\n",
       "      <td>0</td>\n",
       "      <td>0</td>\n",
       "    </tr>\n",
       "    <tr>\n",
       "      <th>8095</th>\n",
       "      <td>0</td>\n",
       "      <td>0.000000</td>\n",
       "      <td>0</td>\n",
       "      <td>0.0</td>\n",
       "      <td>25</td>\n",
       "      <td>701.883333</td>\n",
       "      <td>0.000000</td>\n",
       "      <td>0.023333</td>\n",
       "      <td>0.000000</td>\n",
       "      <td>0.0</td>\n",
       "      <td>6</td>\n",
       "      <td>1.0</td>\n",
       "      <td>10.0</td>\n",
       "      <td>0.0</td>\n",
       "      <td>4.0</td>\n",
       "      <td>2.0</td>\n",
       "      <td>0</td>\n",
       "      <td>0</td>\n",
       "    </tr>\n",
       "    <tr>\n",
       "      <th>8096</th>\n",
       "      <td>9</td>\n",
       "      <td>183.785714</td>\n",
       "      <td>1</td>\n",
       "      <td>90.0</td>\n",
       "      <td>95</td>\n",
       "      <td>3346.501984</td>\n",
       "      <td>0.002118</td>\n",
       "      <td>0.018656</td>\n",
       "      <td>5.932009</td>\n",
       "      <td>0.0</td>\n",
       "      <td>8</td>\n",
       "      <td>5.0</td>\n",
       "      <td>10.0</td>\n",
       "      <td>5.0</td>\n",
       "      <td>4.0</td>\n",
       "      <td>2.0</td>\n",
       "      <td>0</td>\n",
       "      <td>1</td>\n",
       "    </tr>\n",
       "    <tr>\n",
       "      <th>8097</th>\n",
       "      <td>3</td>\n",
       "      <td>49.750000</td>\n",
       "      <td>0</td>\n",
       "      <td>0.0</td>\n",
       "      <td>20</td>\n",
       "      <td>547.400794</td>\n",
       "      <td>0.000000</td>\n",
       "      <td>0.011688</td>\n",
       "      <td>15.065863</td>\n",
       "      <td>0.0</td>\n",
       "      <td>8</td>\n",
       "      <td>5.0</td>\n",
       "      <td>10.0</td>\n",
       "      <td>8.0</td>\n",
       "      <td>4.0</td>\n",
       "      <td>2.0</td>\n",
       "      <td>0</td>\n",
       "      <td>1</td>\n",
       "    </tr>\n",
       "  </tbody>\n",
       "</table>\n",
       "<p>8098 rows × 18 columns</p>\n",
       "</div>"
      ],
      "text/plain": [
       "      Administrative  Administrative_Duration  Informational  \\\n",
       "0                  0                 0.000000              0   \n",
       "1                  0                 0.000000              0   \n",
       "2                  9               301.000000              0   \n",
       "3                  2                13.333333              0   \n",
       "4                  0                 0.000000              0   \n",
       "...              ...                      ...            ...   \n",
       "8093               0                 0.000000              0   \n",
       "8094               1                15.200000              2   \n",
       "8095               0                 0.000000              0   \n",
       "8096               9               183.785714              1   \n",
       "8097               3                49.750000              0   \n",
       "\n",
       "      Informational_Duration  ProductRelated  ProductRelated_Duration  \\\n",
       "0                        0.0               1                 0.000000   \n",
       "1                        0.0               1                 0.000000   \n",
       "2                        0.0              38              2621.621429   \n",
       "3                        0.0             105              2062.443592   \n",
       "4                        0.0              19               220.384849   \n",
       "...                      ...             ...                      ...   \n",
       "8093                     0.0               4                81.000000   \n",
       "8094                    62.6              84              4941.698611   \n",
       "8095                     0.0              25               701.883333   \n",
       "8096                    90.0              95              3346.501984   \n",
       "8097                     0.0              20               547.400794   \n",
       "\n",
       "      BounceRates  ExitRates  PageValues  SpecialDay  Month  OperatingSystems  \\\n",
       "0        0.200000   0.200000    0.000000         0.4      2               3.0   \n",
       "1        0.200000   0.200000    0.000000         0.0      9               1.0   \n",
       "2        0.021212   0.044508   10.721172         0.0      8               1.0   \n",
       "3        0.012205   0.020276    0.000000         0.6      2               5.0   \n",
       "4        0.010526   0.024642    0.000000         0.0      2               1.0   \n",
       "...           ...        ...         ...         ...    ...               ...   \n",
       "8093     0.000000   0.050000    0.000000         0.4      2               1.0   \n",
       "8094     0.017647   0.038706    0.000000         0.0      6               3.0   \n",
       "8095     0.000000   0.023333    0.000000         0.0      6               1.0   \n",
       "8096     0.002118   0.018656    5.932009         0.0      8               5.0   \n",
       "8097     0.000000   0.011688   15.065863         0.0      8               5.0   \n",
       "\n",
       "      Browser  Region  TrafficType  VisitorType  Weekend  Revenue  \n",
       "0        11.0     3.0          7.0          2.0        0        0  \n",
       "1        10.0     0.0          8.0          2.0        0        0  \n",
       "2        10.0     0.0         14.0          2.0        0        0  \n",
       "3        10.0     0.0          7.0          2.0        0        0  \n",
       "4         1.0     0.0          7.0          2.0        0        0  \n",
       "...       ...     ...          ...          ...      ...      ...  \n",
       "8093      1.0     5.0          7.0          2.0        0        0  \n",
       "8094     11.0     1.0          8.0          2.0        0        0  \n",
       "8095     10.0     0.0          4.0          2.0        0        0  \n",
       "8096     10.0     5.0          4.0          2.0        0        1  \n",
       "8097     10.0     8.0          4.0          2.0        0        1  \n",
       "\n",
       "[8098 rows x 18 columns]"
      ]
     },
     "execution_count": 4,
     "metadata": {},
     "output_type": "execute_result"
    }
   ],
   "source": [
    "#Import dataset\n",
    "train = pd.read_csv('train.csv')\n",
    "train.drop(columns='ID', axis=1, inplace=True)\n",
    "# 將 Weekend 欄位異常的值刪除\n",
    "train = train[train['Weekend']!=100]\n",
    "# 第 5378 筆資料有過多 nan 值，先將其刪除\n",
    "train.drop([5378], inplace=True)\n",
    "train = train.reset_index(drop=True)\n",
    "train\n"
   ]
  },
  {
   "cell_type": "code",
   "execution_count": 5,
   "id": "grand-revolution",
   "metadata": {},
   "outputs": [
    {
     "data": {
      "text/html": [
       "<div>\n",
       "<style scoped>\n",
       "    .dataframe tbody tr th:only-of-type {\n",
       "        vertical-align: middle;\n",
       "    }\n",
       "\n",
       "    .dataframe tbody tr th {\n",
       "        vertical-align: top;\n",
       "    }\n",
       "\n",
       "    .dataframe thead th {\n",
       "        text-align: right;\n",
       "    }\n",
       "</style>\n",
       "<table border=\"1\" class=\"dataframe\">\n",
       "  <thead>\n",
       "    <tr style=\"text-align: right;\">\n",
       "      <th></th>\n",
       "      <th>Administrative</th>\n",
       "      <th>Administrative_Duration</th>\n",
       "      <th>Informational</th>\n",
       "      <th>Informational_Duration</th>\n",
       "      <th>ProductRelated</th>\n",
       "      <th>ProductRelated_Duration</th>\n",
       "      <th>BounceRates</th>\n",
       "      <th>ExitRates</th>\n",
       "      <th>PageValues</th>\n",
       "      <th>SpecialDay</th>\n",
       "      <th>Month</th>\n",
       "      <th>OperatingSystems</th>\n",
       "      <th>Browser</th>\n",
       "      <th>Region</th>\n",
       "      <th>TrafficType</th>\n",
       "      <th>VisitorType</th>\n",
       "      <th>Weekend</th>\n",
       "      <th>Revenue</th>\n",
       "    </tr>\n",
       "  </thead>\n",
       "  <tbody>\n",
       "    <tr>\n",
       "      <th>2297</th>\n",
       "      <td>9</td>\n",
       "      <td>387.75</td>\n",
       "      <td>0</td>\n",
       "      <td>0.0</td>\n",
       "      <td>64</td>\n",
       "      <td>980.502199</td>\n",
       "      <td>0.000867</td>\n",
       "      <td>0.012799</td>\n",
       "      <td>9.581561</td>\n",
       "      <td>0.0</td>\n",
       "      <td>8</td>\n",
       "      <td>5.0</td>\n",
       "      <td>10.0</td>\n",
       "      <td>6.0</td>\n",
       "      <td>8.0</td>\n",
       "      <td>2.0</td>\n",
       "      <td>0</td>\n",
       "      <td>1</td>\n",
       "    </tr>\n",
       "    <tr>\n",
       "      <th>1055</th>\n",
       "      <td>5</td>\n",
       "      <td>129.50</td>\n",
       "      <td>0</td>\n",
       "      <td>0.0</td>\n",
       "      <td>13</td>\n",
       "      <td>1507.333333</td>\n",
       "      <td>0.016667</td>\n",
       "      <td>0.028125</td>\n",
       "      <td>0.000000</td>\n",
       "      <td>0.0</td>\n",
       "      <td>1</td>\n",
       "      <td>1.0</td>\n",
       "      <td>10.0</td>\n",
       "      <td>6.0</td>\n",
       "      <td>4.0</td>\n",
       "      <td>2.0</td>\n",
       "      <td>0</td>\n",
       "      <td>0</td>\n",
       "    </tr>\n",
       "    <tr>\n",
       "      <th>5036</th>\n",
       "      <td>0</td>\n",
       "      <td>0.00</td>\n",
       "      <td>0</td>\n",
       "      <td>0.0</td>\n",
       "      <td>15</td>\n",
       "      <td>872.833333</td>\n",
       "      <td>0.000000</td>\n",
       "      <td>0.026667</td>\n",
       "      <td>0.000000</td>\n",
       "      <td>0.0</td>\n",
       "      <td>1</td>\n",
       "      <td>1.0</td>\n",
       "      <td>10.0</td>\n",
       "      <td>5.0</td>\n",
       "      <td>12.0</td>\n",
       "      <td>2.0</td>\n",
       "      <td>1</td>\n",
       "      <td>0</td>\n",
       "    </tr>\n",
       "    <tr>\n",
       "      <th>5507</th>\n",
       "      <td>4</td>\n",
       "      <td>70.40</td>\n",
       "      <td>1</td>\n",
       "      <td>645.5</td>\n",
       "      <td>82</td>\n",
       "      <td>11257.108300</td>\n",
       "      <td>0.005575</td>\n",
       "      <td>0.019402</td>\n",
       "      <td>0.000000</td>\n",
       "      <td>0.0</td>\n",
       "      <td>8</td>\n",
       "      <td>1.0</td>\n",
       "      <td>7.0</td>\n",
       "      <td>0.0</td>\n",
       "      <td>4.0</td>\n",
       "      <td>2.0</td>\n",
       "      <td>1</td>\n",
       "      <td>0</td>\n",
       "    </tr>\n",
       "    <tr>\n",
       "      <th>6832</th>\n",
       "      <td>5</td>\n",
       "      <td>55.50</td>\n",
       "      <td>2</td>\n",
       "      <td>132.5</td>\n",
       "      <td>61</td>\n",
       "      <td>2190.429367</td>\n",
       "      <td>0.013846</td>\n",
       "      <td>0.038779</td>\n",
       "      <td>0.000000</td>\n",
       "      <td>0.0</td>\n",
       "      <td>8</td>\n",
       "      <td>5.0</td>\n",
       "      <td>10.0</td>\n",
       "      <td>6.0</td>\n",
       "      <td>14.0</td>\n",
       "      <td>2.0</td>\n",
       "      <td>0</td>\n",
       "      <td>0</td>\n",
       "    </tr>\n",
       "  </tbody>\n",
       "</table>\n",
       "</div>"
      ],
      "text/plain": [
       "      Administrative  Administrative_Duration  Informational  \\\n",
       "2297               9                   387.75              0   \n",
       "1055               5                   129.50              0   \n",
       "5036               0                     0.00              0   \n",
       "5507               4                    70.40              1   \n",
       "6832               5                    55.50              2   \n",
       "\n",
       "      Informational_Duration  ProductRelated  ProductRelated_Duration  \\\n",
       "2297                     0.0              64               980.502199   \n",
       "1055                     0.0              13              1507.333333   \n",
       "5036                     0.0              15               872.833333   \n",
       "5507                   645.5              82             11257.108300   \n",
       "6832                   132.5              61              2190.429367   \n",
       "\n",
       "      BounceRates  ExitRates  PageValues  SpecialDay  Month  OperatingSystems  \\\n",
       "2297     0.000867   0.012799    9.581561         0.0      8               5.0   \n",
       "1055     0.016667   0.028125    0.000000         0.0      1               1.0   \n",
       "5036     0.000000   0.026667    0.000000         0.0      1               1.0   \n",
       "5507     0.005575   0.019402    0.000000         0.0      8               1.0   \n",
       "6832     0.013846   0.038779    0.000000         0.0      8               5.0   \n",
       "\n",
       "      Browser  Region  TrafficType  VisitorType  Weekend  Revenue  \n",
       "2297     10.0     6.0          8.0          2.0        0        1  \n",
       "1055     10.0     6.0          4.0          2.0        0        0  \n",
       "5036     10.0     5.0         12.0          2.0        1        0  \n",
       "5507      7.0     0.0          4.0          2.0        1        0  \n",
       "6832     10.0     6.0         14.0          2.0        0        0  "
      ]
     },
     "execution_count": 5,
     "metadata": {},
     "output_type": "execute_result"
    },
    {
     "name": "stdout",
     "output_type": "stream",
     "text": [
      "<class 'pandas.core.frame.DataFrame'>\n",
      "RangeIndex: 8098 entries, 0 to 8097\n",
      "Data columns (total 18 columns):\n",
      " #   Column                   Non-Null Count  Dtype  \n",
      "---  ------                   --------------  -----  \n",
      " 0   Administrative           8098 non-null   int64  \n",
      " 1   Administrative_Duration  8098 non-null   float64\n",
      " 2   Informational            8098 non-null   int64  \n",
      " 3   Informational_Duration   8098 non-null   float64\n",
      " 4   ProductRelated           8098 non-null   int64  \n",
      " 5   ProductRelated_Duration  8097 non-null   float64\n",
      " 6   BounceRates              8098 non-null   float64\n",
      " 7   ExitRates                8098 non-null   float64\n",
      " 8   PageValues               8098 non-null   float64\n",
      " 9   SpecialDay               8098 non-null   float64\n",
      " 10  Month                    8098 non-null   int64  \n",
      " 11  OperatingSystems         8097 non-null   float64\n",
      " 12  Browser                  8098 non-null   float64\n",
      " 13  Region                   8098 non-null   float64\n",
      " 14  TrafficType              8098 non-null   float64\n",
      " 15  VisitorType              8098 non-null   float64\n",
      " 16  Weekend                  8098 non-null   int64  \n",
      " 17  Revenue                  8098 non-null   int64  \n",
      "dtypes: float64(12), int64(6)\n",
      "memory usage: 1.1 MB\n",
      "共有 2 個欄位有 NULL 值\n"
     ]
    }
   ],
   "source": [
    "train.sample(5)\n",
    "# 顯示個欄位的屬性與 non-null的數量\n",
    "train.info()\n",
    "# 計算有多少欄位有 NULL\n",
    "cols_nulls = [train[c].isna().max() for c in train.columns]\n",
    "print('共有',sum(cols_nulls),'個欄位有 NULL 值')"
   ]
  },
  {
   "cell_type": "code",
   "execution_count": 6,
   "id": "alone-expansion",
   "metadata": {},
   "outputs": [
    {
     "data": {
      "text/plain": [
       "Index(['ProductRelated_Duration', 'OperatingSystems'], dtype='object')"
      ]
     },
     "execution_count": 6,
     "metadata": {},
     "output_type": "execute_result"
    },
    {
     "data": {
      "text/html": [
       "<div>\n",
       "<style scoped>\n",
       "    .dataframe tbody tr th:only-of-type {\n",
       "        vertical-align: middle;\n",
       "    }\n",
       "\n",
       "    .dataframe tbody tr th {\n",
       "        vertical-align: top;\n",
       "    }\n",
       "\n",
       "    .dataframe thead th {\n",
       "        text-align: right;\n",
       "    }\n",
       "</style>\n",
       "<table border=\"1\" class=\"dataframe\">\n",
       "  <thead>\n",
       "    <tr style=\"text-align: right;\">\n",
       "      <th></th>\n",
       "      <th>ProductRelated_Duration</th>\n",
       "      <th>OperatingSystems</th>\n",
       "    </tr>\n",
       "  </thead>\n",
       "  <tbody>\n",
       "    <tr>\n",
       "      <th>4315</th>\n",
       "      <td>211.470238</td>\n",
       "      <td>NaN</td>\n",
       "    </tr>\n",
       "    <tr>\n",
       "      <th>7836</th>\n",
       "      <td>NaN</td>\n",
       "      <td>3.0</td>\n",
       "    </tr>\n",
       "  </tbody>\n",
       "</table>\n",
       "</div>"
      ],
      "text/plain": [
       "      ProductRelated_Duration  OperatingSystems\n",
       "4315               211.470238               NaN\n",
       "7836                      NaN               3.0"
      ]
     },
     "execution_count": 6,
     "metadata": {},
     "output_type": "execute_result"
    }
   ],
   "source": [
    "# 顯示哪些欄位有 Nan 值\n",
    "train.columns[cols_nulls]\n",
    "# 顯示有　Nan 值的資料\n",
    "train[train.columns[cols_nulls]][train.isnull().T.any()]\n",
    "# 連續型:\n",
    "# ProductRelated_Duration 產品頁面瀏覽時間\n",
    "# 類別型:\n",
    "# OperatingSystems 作業系統\n",
    "# Browser 瀏覽器\n",
    "# Region 地區\n",
    "# TrafficType 流量來源\n",
    "# VisitorType 訪客類型"
   ]
  },
  {
   "cell_type": "markdown",
   "id": "internal-service",
   "metadata": {},
   "source": [
    "# 欄位填補\n",
    "- 評估欄位適合以哪種方式填補\n",
    "- 類別型特徵：當沒有一個最常見的類型可用於估算空值時，使用新值“未知”來填補空值。\n",
    "- 連續型特徵：當特徵的分佈嚴重左偏或右偏，使用中位數(Median)來填補空值。"
   ]
  },
  {
   "cell_type": "code",
   "execution_count": 7,
   "id": "warming-farmer",
   "metadata": {},
   "outputs": [
    {
     "name": "stdout",
     "output_type": "stream",
     "text": [
      "<class 'pandas.core.frame.DataFrame'>\n",
      "RangeIndex: 8098 entries, 0 to 8097\n",
      "Data columns (total 1 columns):\n",
      " #   Column                   Non-Null Count  Dtype  \n",
      "---  ------                   --------------  -----  \n",
      " 0   ProductRelated_Duration  8097 non-null   float64\n",
      "dtypes: float64(1)\n",
      "memory usage: 63.4 KB\n"
     ]
    },
    {
     "data": {
      "text/plain": [
       "count    8.097000e+03\n",
       "mean     8.313574e+04\n",
       "std      6.359881e+06\n",
       "min      0.000000e+00\n",
       "25%      1.838333e+02\n",
       "50%      5.988738e+02\n",
       "75%      1.461833e+03\n",
       "max      5.634924e+08\n",
       "Name: ProductRelated_Duration, dtype: float64"
      ]
     },
     "execution_count": 7,
     "metadata": {},
     "output_type": "execute_result"
    },
    {
     "data": {
      "text/plain": [
       "<AxesSubplot:xlabel='ProductRelated_Duration', ylabel='Count'>"
      ]
     },
     "execution_count": 7,
     "metadata": {},
     "output_type": "execute_result"
    },
    {
     "data": {
      "text/plain": [
       "Text(0.5, 1.0, 'Distribution of ProductRelated_Duration to Website')"
      ]
     },
     "execution_count": 7,
     "metadata": {},
     "output_type": "execute_result"
    },
    {
     "data": {
      "image/png": "[encoded data removed]",
      "text/plain": [
       "<Figure size 432x288 with 1 Axes>"
      ]
     },
     "metadata": {
      "needs_background": "light"
     },
     "output_type": "display_data"
    }
   ],
   "source": [
    "# 數值型變數填補\n",
    "# 評估 ProductRelated_Duration 欄位的填補方式\n",
    "\n",
    "train[['ProductRelated_Duration']].info()\n",
    "train['ProductRelated_Duration'].describe()\n",
    "sns.histplot(x='ProductRelated_Duration', data=train, bins=50)\n",
    "plt.title(\"Distribution of ProductRelated_Duration to Website\")\n",
    "plt.show()\n",
    "# 該特徵的分佈嚴重右偏，使用中位數(Median)插補處理空值\n",
    "train['ProductRelated_Duration'] = train['ProductRelated_Duration'].fillna(train['ProductRelated_Duration'].median())"
   ]
  },
  {
   "cell_type": "code",
   "execution_count": 11,
   "id": "earned-subscriber",
   "metadata": {},
   "outputs": [
    {
     "name": "stdout",
     "output_type": "stream",
     "text": [
      "<class 'pandas.core.frame.DataFrame'>\n",
      "RangeIndex: 8098 entries, 0 to 8097\n",
      "Data columns (total 1 columns):\n",
      " #   Column            Non-Null Count  Dtype  \n",
      "---  ------            --------------  -----  \n",
      " 0   OperatingSystems  8097 non-null   float64\n",
      "dtypes: float64(1)\n",
      "memory usage: 63.4 KB\n"
     ]
    },
    {
     "data": {
      "text/plain": [
       "array([ 3.,  1.,  5.,  0.,  4.,  6.,  7.,  2., nan])"
      ]
     },
     "execution_count": 11,
     "metadata": {},
     "output_type": "execute_result"
    },
    {
     "data": {
      "text/plain": [
       "<AxesSubplot:xlabel='count', ylabel='OperatingSystems'>"
      ]
     },
     "execution_count": 11,
     "metadata": {},
     "output_type": "execute_result"
    },
    {
     "data": {
      "text/plain": [
       "Text(0.5, 1.0, 'Distribution of OperatingSystems')"
      ]
     },
     "execution_count": 11,
     "metadata": {},
     "output_type": "execute_result"
    },
    {
     "data": {
      "image/png": "[encoded data removed]",
      "text/plain": [
       "<Figure size 432x288 with 1 Axes>"
      ]
     },
     "metadata": {
      "needs_background": "light"
     },
     "output_type": "display_data"
    }
   ],
   "source": [
    "# 類別型變數填補\n",
    "# 評估 OperatingSystems 欄位的填補方式\n",
    "train[['OperatingSystems']].info()\n",
    "train['OperatingSystems'].unique()\n",
    "\n",
    "sns.countplot(y='OperatingSystems', data=train, order = train['OperatingSystems'].value_counts().index)\n",
    "plt.title('Distribution of OperatingSystems')\n",
    "# 存在一個最常見的 OperatingSystems 類型可用於填補空值。 因此，使用 1.0 來填補空值\n",
    "train['OperatingSystems'] = train['OperatingSystems'].fillna(1.0)"
   ]
  },
  {
   "cell_type": "markdown",
   "id": "afraid-wednesday",
   "metadata": {},
   "source": [
    "# 型別轉換\n",
    "- 物件轉換為類別變量"
   ]
  },
  {
   "cell_type": "code",
   "execution_count": 21,
   "id": "peripheral-execution",
   "metadata": {},
   "outputs": [
    {
     "name": "stdout",
     "output_type": "stream",
     "text": [
      "<class 'pandas.core.frame.DataFrame'>\n",
      "RangeIndex: 8098 entries, 0 to 8097\n",
      "Data columns (total 8 columns):\n",
      " #   Column            Non-Null Count  Dtype   \n",
      "---  ------            --------------  -----   \n",
      " 0   Month             8098 non-null   category\n",
      " 1   OperatingSystems  8098 non-null   category\n",
      " 2   Browser           8098 non-null   category\n",
      " 3   Region            8098 non-null   category\n",
      " 4   TrafficType       8098 non-null   category\n",
      " 5   VisitorType       8098 non-null   category\n",
      " 6   Weekend           8098 non-null   category\n",
      " 7   Revenue           8098 non-null   category\n",
      "dtypes: category(8)\n",
      "memory usage: 66.2 KB\n",
      "<class 'pandas.core.frame.DataFrame'>\n",
      "RangeIndex: 8098 entries, 0 to 8097\n",
      "Data columns (total 8 columns):\n",
      " #   Column            Non-Null Count  Dtype   \n",
      "---  ------            --------------  -----   \n",
      " 0   Month             8098 non-null   category\n",
      " 1   OperatingSystems  8098 non-null   category\n",
      " 2   Browser           8098 non-null   category\n",
      " 3   Region            8098 non-null   category\n",
      " 4   TrafficType       8098 non-null   category\n",
      " 5   VisitorType       8098 non-null   category\n",
      " 6   Weekend           8098 non-null   category\n",
      " 7   Revenue           8098 non-null   category\n",
      "dtypes: category(8)\n",
      "memory usage: 66.2 KB\n"
     ]
    }
   ],
   "source": [
    "train[category_list].info()\n",
    "for ｉ in train.columns:\n",
    "    if i in category_list: \n",
    "        train[ｉ] = train[ｉ].astype('int64')\n",
    "        train[ｉ] = train[ｉ].astype('category')\n",
    "train[category_list].info()"
   ]
  },
  {
   "cell_type": "code",
   "execution_count": 22,
   "id": "smart-queens",
   "metadata": {
    "scrolled": false
   },
   "outputs": [
    {
     "data": {
      "text/plain": [
       "<AxesSubplot:xlabel='Month', ylabel='count'>"
      ]
     },
     "execution_count": 22,
     "metadata": {},
     "output_type": "execute_result"
    },
    {
     "data": {
      "text/plain": [
       "Text(0.5, 1.0, 'Distribution of Month')"
      ]
     },
     "execution_count": 22,
     "metadata": {},
     "output_type": "execute_result"
    },
    {
     "data": {
      "text/plain": [
       "(array([ 0,  1,  2,  3,  4,  5,  6,  7,  8,  9, 10]),\n",
       " [Text(0, 0, '0'),\n",
       "  Text(1, 0, '1'),\n",
       "  Text(2, 0, '2'),\n",
       "  Text(3, 0, '3'),\n",
       "  Text(4, 0, '4'),\n",
       "  Text(5, 0, '5'),\n",
       "  Text(6, 0, '6'),\n",
       "  Text(7, 0, '7'),\n",
       "  Text(8, 0, '8'),\n",
       "  Text(9, 0, '9'),\n",
       "  Text(10, 0, '13')])"
      ]
     },
     "execution_count": 22,
     "metadata": {},
     "output_type": "execute_result"
    },
    {
     "data": {
      "text/plain": [
       "<AxesSubplot:xlabel='OperatingSystems', ylabel='count'>"
      ]
     },
     "execution_count": 22,
     "metadata": {},
     "output_type": "execute_result"
    },
    {
     "data": {
      "text/plain": [
       "Text(0.5, 1.0, 'Distribution of OperatingSystems')"
      ]
     },
     "execution_count": 22,
     "metadata": {},
     "output_type": "execute_result"
    },
    {
     "data": {
      "text/plain": [
       "(array([0, 1, 2, 3, 4, 5, 6, 7]),\n",
       " [Text(0, 0, '0'),\n",
       "  Text(1, 0, '1'),\n",
       "  Text(2, 0, '2'),\n",
       "  Text(3, 0, '3'),\n",
       "  Text(4, 0, '4'),\n",
       "  Text(5, 0, '5'),\n",
       "  Text(6, 0, '6'),\n",
       "  Text(7, 0, '7')])"
      ]
     },
     "execution_count": 22,
     "metadata": {},
     "output_type": "execute_result"
    },
    {
     "data": {
      "text/plain": [
       "<AxesSubplot:xlabel='Browser', ylabel='count'>"
      ]
     },
     "execution_count": 22,
     "metadata": {},
     "output_type": "execute_result"
    },
    {
     "data": {
      "text/plain": [
       "Text(0.5, 1.0, 'Distribution of Browser')"
      ]
     },
     "execution_count": 22,
     "metadata": {},
     "output_type": "execute_result"
    },
    {
     "data": {
      "text/plain": [
       "(array([ 0,  1,  2,  3,  4,  5,  6,  7,  8,  9, 10, 11, 12]),\n",
       " [Text(0, 0, '0'),\n",
       "  Text(1, 0, '1'),\n",
       "  Text(2, 0, '2'),\n",
       "  Text(3, 0, '3'),\n",
       "  Text(4, 0, '4'),\n",
       "  Text(5, 0, '5'),\n",
       "  Text(6, 0, '6'),\n",
       "  Text(7, 0, '7'),\n",
       "  Text(8, 0, '8'),\n",
       "  Text(9, 0, '9'),\n",
       "  Text(10, 0, '10'),\n",
       "  Text(11, 0, '11'),\n",
       "  Text(12, 0, '12')])"
      ]
     },
     "execution_count": 22,
     "metadata": {},
     "output_type": "execute_result"
    },
    {
     "data": {
      "text/plain": [
       "<AxesSubplot:xlabel='Region', ylabel='count'>"
      ]
     },
     "execution_count": 22,
     "metadata": {},
     "output_type": "execute_result"
    },
    {
     "data": {
      "text/plain": [
       "Text(0.5, 1.0, 'Distribution of Region')"
      ]
     },
     "execution_count": 22,
     "metadata": {},
     "output_type": "execute_result"
    },
    {
     "data": {
      "text/plain": [
       "(array([0, 1, 2, 3, 4, 5, 6, 7, 8]),\n",
       " [Text(0, 0, '0'),\n",
       "  Text(1, 0, '1'),\n",
       "  Text(2, 0, '2'),\n",
       "  Text(3, 0, '3'),\n",
       "  Text(4, 0, '4'),\n",
       "  Text(5, 0, '5'),\n",
       "  Text(6, 0, '6'),\n",
       "  Text(7, 0, '7'),\n",
       "  Text(8, 0, '8')])"
      ]
     },
     "execution_count": 22,
     "metadata": {},
     "output_type": "execute_result"
    },
    {
     "data": {
      "text/plain": [
       "<AxesSubplot:xlabel='TrafficType', ylabel='count'>"
      ]
     },
     "execution_count": 22,
     "metadata": {},
     "output_type": "execute_result"
    },
    {
     "data": {
      "text/plain": [
       "Text(0.5, 1.0, 'Distribution of TrafficType')"
      ]
     },
     "execution_count": 22,
     "metadata": {},
     "output_type": "execute_result"
    },
    {
     "data": {
      "text/plain": [
       "(array([ 0,  1,  2,  3,  4,  5,  6,  7,  8,  9, 10, 11, 12, 13, 14, 15, 16,\n",
       "        17, 18, 19]),\n",
       " [Text(0, 0, '0'),\n",
       "  Text(1, 0, '1'),\n",
       "  Text(2, 0, '2'),\n",
       "  Text(3, 0, '3'),\n",
       "  Text(4, 0, '4'),\n",
       "  Text(5, 0, '5'),\n",
       "  Text(6, 0, '6'),\n",
       "  Text(7, 0, '7'),\n",
       "  Text(8, 0, '8'),\n",
       "  Text(9, 0, '9'),\n",
       "  Text(10, 0, '10'),\n",
       "  Text(11, 0, '11'),\n",
       "  Text(12, 0, '12'),\n",
       "  Text(13, 0, '13'),\n",
       "  Text(14, 0, '14'),\n",
       "  Text(15, 0, '15'),\n",
       "  Text(16, 0, '16'),\n",
       "  Text(17, 0, '17'),\n",
       "  Text(18, 0, '18'),\n",
       "  Text(19, 0, '19')])"
      ]
     },
     "execution_count": 22,
     "metadata": {},
     "output_type": "execute_result"
    },
    {
     "data": {
      "text/plain": [
       "<AxesSubplot:xlabel='VisitorType', ylabel='count'>"
      ]
     },
     "execution_count": 22,
     "metadata": {},
     "output_type": "execute_result"
    },
    {
     "data": {
      "text/plain": [
       "Text(0.5, 1.0, 'Distribution of VisitorType')"
      ]
     },
     "execution_count": 22,
     "metadata": {},
     "output_type": "execute_result"
    },
    {
     "data": {
      "text/plain": [
       "(array([0, 1, 2]), [Text(0, 0, '0'), Text(1, 0, '1'), Text(2, 0, '2')])"
      ]
     },
     "execution_count": 22,
     "metadata": {},
     "output_type": "execute_result"
    },
    {
     "data": {
      "text/plain": [
       "<AxesSubplot:xlabel='Weekend', ylabel='count'>"
      ]
     },
     "execution_count": 22,
     "metadata": {},
     "output_type": "execute_result"
    },
    {
     "data": {
      "text/plain": [
       "Text(0.5, 1.0, 'Distribution of Weekend')"
      ]
     },
     "execution_count": 22,
     "metadata": {},
     "output_type": "execute_result"
    },
    {
     "data": {
      "text/plain": [
       "(array([0, 1]), [Text(0, 0, '0'), Text(1, 0, '1')])"
      ]
     },
     "execution_count": 22,
     "metadata": {},
     "output_type": "execute_result"
    },
    {
     "data": {
      "text/plain": [
       "<AxesSubplot:xlabel='Revenue', ylabel='count'>"
      ]
     },
     "execution_count": 22,
     "metadata": {},
     "output_type": "execute_result"
    },
    {
     "data": {
      "text/plain": [
       "Text(0.5, 1.0, 'Distribution of Revenue')"
      ]
     },
     "execution_count": 22,
     "metadata": {},
     "output_type": "execute_result"
    },
    {
     "data": {
      "text/plain": [
       "(array([0, 1]), [Text(0, 0, '0'), Text(1, 0, '1')])"
      ]
     },
     "execution_count": 22,
     "metadata": {},
     "output_type": "execute_result"
    },
    {
     "data": {
      "image/png": "[encoded data removed]",
      "text/plain": [
       "<Figure size 1728x1728 with 8 Axes>"
      ]
     },
     "metadata": {
      "needs_background": "light"
     },
     "output_type": "display_data"
    }
   ],
   "source": [
    "# 觀察類別型變數的分佈\n",
    "category_list = ['Month', 'OperatingSystems', 'Browser', 'Region', \n",
    "                 'TrafficType', 'VisitorType', 'Weekend', 'Revenue']\n",
    "\n",
    "fig, axes = plt.subplots(nrows=2, ncols=4, figsize=(24, 24))\n",
    "k = 0\n",
    "for i in range(2):\n",
    "    for j in range(4):\n",
    "        sns.countplot(x=category_list[k], data=train, ax=axes[i][j])\n",
    "        plt.sca(axes[i][j])\n",
    "        plt.title(\"Distribution of \" + category_list[k])\n",
    "        plt.xticks(rotation=90)\n",
    "        k += 1"
   ]
  },
  {
   "cell_type": "code",
   "execution_count": 25,
   "id": "spectacular-harvard",
   "metadata": {},
   "outputs": [
    {
     "name": "stdout",
     "output_type": "stream",
     "text": [
      "<class 'pandas.core.frame.DataFrame'>\n",
      "RangeIndex: 8098 entries, 0 to 8097\n",
      "Data columns (total 18 columns):\n",
      " #   Column                   Non-Null Count  Dtype   \n",
      "---  ------                   --------------  -----   \n",
      " 0   Administrative           8098 non-null   int64   \n",
      " 1   Administrative_Duration  8098 non-null   float64 \n",
      " 2   Informational            8098 non-null   int64   \n",
      " 3   Informational_Duration   8098 non-null   float64 \n",
      " 4   ProductRelated           8098 non-null   int64   \n",
      " 5   ProductRelated_Duration  8098 non-null   float64 \n",
      " 6   BounceRates              8098 non-null   float64 \n",
      " 7   ExitRates                8098 non-null   float64 \n",
      " 8   PageValues               8098 non-null   float64 \n",
      " 9   SpecialDay               8098 non-null   float64 \n",
      " 10  Month                    8098 non-null   category\n",
      " 11  OperatingSystems         8098 non-null   category\n",
      " 12  Browser                  8098 non-null   category\n",
      " 13  Region                   8098 non-null   category\n",
      " 14  TrafficType              8098 non-null   category\n",
      " 15  VisitorType              8098 non-null   category\n",
      " 16  Weekend                  8098 non-null   category\n",
      " 17  Revenue                  8098 non-null   category\n",
      "dtypes: category(8), float64(7), int64(3)\n",
      "memory usage: 698.9 KB\n"
     ]
    }
   ],
   "source": [
    "# 清整完成，Review dataset\n",
    "train.info()"
   ]
  },
  {
   "cell_type": "code",
   "execution_count": 28,
   "id": "smooth-treasurer",
   "metadata": {},
   "outputs": [],
   "source": [
    "train.to_csv('train_final.csv')"
   ]
  },
  {
   "cell_type": "code",
   "execution_count": null,
   "id": "color-guatemala",
   "metadata": {},
   "outputs": [],
   "source": []
  },
  {
   "cell_type": "code",
   "execution_count": 26,
   "id": "fundamental-planet",
   "metadata": {},
   "outputs": [],
   "source": [
    "# 1 Administrative：管理頁面瀏覽數量\n",
    "# 2 Administrative_Duration：管理頁面瀏覽時間\n",
    "# 3 Informational：資訊頁面瀏覽數量\n",
    "# 4 Informational_Duration：資訊頁面瀏覽時間\n",
    "# 5 ProductRelated：產品頁面瀏覽數量\n",
    "# 6 ProductRelated_Duration：產品頁面瀏覽時間\n",
    "# 7 BounceRates：跳出率\n",
    "# 8 ExitRates：退出率\n",
    "# 9 PageValues：頁面價值\n",
    "# 10 SpecialDay：特殊日期（例如聖誕節，情人節）接近程度\n",
    "# 11 Month：訪問月份\n",
    "# 12 OperatingSystems：作業系統\n",
    "# 13 Browser：瀏覽器\n",
    "# 14 Region：地區\n",
    "# 15 TrafficType：流量來源\n",
    "# 16 VisitorType：訪客類型\n",
    "# 17 Weekend：訪問時間是否為週末\n",
    "# 18 Revenue：是否訂房"
   ]
  },
  {
   "cell_type": "code",
   "execution_count": 27,
   "id": "suspended-wisconsin",
   "metadata": {},
   "outputs": [],
   "source": [
    "# category_list = ['Month', 'OperatingSystems', 'Browser', 'Region', 'TrafficType', 'VisitorType', 'Weekend', 'Revenue']\n",
    "# for i in category_list:\n",
    "#     unique_array = train[i].unique()\n",
    "#     i,unique_array,max(unique_array),min(unique_array)"
   ]
  },
  {
   "cell_type": "code",
   "execution_count": null,
   "id": "egyptian-multimedia",
   "metadata": {},
   "outputs": [],
   "source": []
  }
 ],
 "metadata": {
  "kernelspec": {
   "display_name": "Python 3",
   "language": "python",
   "name": "python3"
  },
  "language_info": {
   "codemirror_mode": {
    "name": "ipython",
    "version": 3
   },
   "file_extension": ".py",
   "mimetype": "text/x-python",
   "name": "python",
   "nbconvert_exporter": "python",
   "pygments_lexer": "ipython3",
   "version": "3.8.8"
  }
 },
 "nbformat": 4,
 "nbformat_minor": 5
}
